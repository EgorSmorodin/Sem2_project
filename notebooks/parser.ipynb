{
  "nbformat": 4,
  "nbformat_minor": 0,
  "metadata": {
    "colab": {
      "provenance": []
    },
    "kernelspec": {
      "name": "python3",
      "display_name": "Python 3"
    },
    "language_info": {
      "name": "python"
    }
  },
  "cells": [
    {
      "cell_type": "code",
      "execution_count": 1,
      "metadata": {
        "id": "QJgJPPfUGWQM"
      },
      "outputs": [],
      "source": [
        "import requests\n",
        "from bs4 import BeautifulSoup\n",
        "import pandas as pd\n",
        "import re\n",
        "import csv"
      ]
    },
    {
      "cell_type": "code",
      "source": [
        "def parse_auto_ria(page=1):\n",
        "    url = f\"https://auto.ria.com/car/used/?page={page}\"\n",
        "    headers = {\n",
        "        \"User-Agent\": (\n",
        "            \"Mozilla/5.0 (Windows NT 10.0; Win64; x64) \"\n",
        "            \"AppleWebKit/537.36 (KHTML, like Gecko) Chrome/120.0.0.0 Safari/537.36\"\n",
        "        )\n",
        "    }\n",
        "    resp = requests.get(url, headers=headers, timeout=10)\n",
        "    resp.raise_for_status()\n",
        "    soup = BeautifulSoup(resp.text, \"html.parser\")\n",
        "\n",
        "    data = []\n",
        "    for ticket in soup.select(\"section.ticket-item\")[:20]:\n",
        "        item = {\"Цена(в $)\": \"Na\", \"Пробег\": \"Na\", \"Модель_полная\": \"Na\"}\n",
        "        text = ticket.get_text(separator=\" \", strip=True)\n",
        "\n",
        "        # Цена\n",
        "        price_tag = ticket.select_one(\"span.price-ticket\") or ticket.select_one(\"span.green\")\n",
        "        if price_tag:\n",
        "            item[\"Цена(в $)\"] = price_tag.get_text(strip=True)\n",
        "\n",
        "        # Пробег\n",
        "        mileage = None\n",
        "        for li in ticket.select(\"li\"):\n",
        "            li_text = li.get_text(strip=True)\n",
        "            if re.search(r\"[\\d\\s,]+км\", li_text):\n",
        "                mileage = re.sub(r\"\\s+\", \"\", li_text).replace(\",\", \"\")\n",
        "                break\n",
        "        if mileage:\n",
        "            item[\"Пробег\"] = re.sub(r\"[^\\d]\", \"\", mileage) + \" тыс.км\"\n",
        "\n",
        "        # Модель (полная строка)\n",
        "        model_tag = ticket.select_one(\"a.address\")\n",
        "        if model_tag:\n",
        "            model_text = model_tag.get_text(strip=True)\n",
        "            item[\"Модель_полная\"] = model_text\n",
        "\n",
        "        data.append(item)\n",
        "\n",
        "    return data\n",
        "\n",
        "# Сбор данных\n",
        "all_data = []\n",
        "for page in (1, 20):\n",
        "    try:\n",
        "        all_data += parse_auto_ria(page)\n",
        "    except Exception as e:\n",
        "        print(f\"Ошибка на странице {page}: {e}\")\n",
        "\n",
        "# В DataFrame\n",
        "df = pd.DataFrame(all_data)\n",
        "df = df[(df != \"Na\").any(axis=1)].reset_index(drop=True)\n",
        "\n",
        "# Разделим \"Модель_полная\" на \"Марка\" и \"Модель\"\n",
        "df[[\"Марка\", \"Модель\"]] = df[\"Модель_полная\"].str.extract(r\"^(\\S+)\\s+(.+)$\")\n",
        "\n",
        "# Извлекаем год из модели, если есть, и удаляем его из самой модели\n",
        "df[\"Год\"] = df[\"Модель\"].str.extract(r\"(19\\d{2}|20\\d{2})$\")\n",
        "df[\"Модель\"] = df[\"Модель\"].str.replace(r\"(19\\d{2}|20\\d{2})$\", \"\", regex=True).str.strip()\n",
        "\n",
        "# Удаляем временную колонку\n",
        "df.drop(columns=[\"Модель_полная\"], inplace=True)\n",
        "\n",
        "# Вывод полной таблицы\n",
        "from IPython.display import display\n",
        "print(\"Все данные:\")\n",
        "display(df)\n",
        "\n",
        "# Вывод отфильтрованной таблицы без ни одного 'Na'\n",
        "df_no_na = df[(df != \"Na\").all(axis=1)].reset_index(drop=True)\n",
        "print(\"Только полные записи (без Na):\")\n",
        "display(df_no_na)"
      ],
      "metadata": {
        "id": "VQFviqPEHCzp"
      },
      "execution_count": null,
      "outputs": []
    },
    {
      "cell_type": "code",
      "source": [
        "# Сохранение полученных данных в data\n",
        "with open(\"../data/data_raw.csv\", \"w\", newline=\"\", encoding=\"utf-8\") as file:\n",
        "    writer = csv.DictWriter(file, fieldnames=[\"Цена(в $)\", \"Пробег\", \"Марка\", \"Модель\", \"Год\"])\n",
        "    writer.writeheader()\n",
        "    writer.writerows(df)\n",
        "with open(\"../data/data_clean.csv\", \"w\", newline=\"\", encoding=\"utf-8\") as file:\n",
        "    writer = csv.DictWriter(file, fieldnames=[\"Цена(в $)\", \"Пробег\", \"Марка\", \"Модель\", \"Год\"])\n",
        "    writer.writeheader()\n",
        "    writer.writerows(df_no_na)"
      ],
      "metadata": {
        "id": "Bgu3NMGUHIdT"
      },
      "execution_count": null,
      "outputs": []
    }
  ]
}